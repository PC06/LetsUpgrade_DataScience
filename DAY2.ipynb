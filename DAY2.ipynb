{
 "cells": [
  {
   "cell_type": "markdown",
   "metadata": {},
   "source": [
    "# Day_2"
   ]
  },
  {
   "cell_type": "markdown",
   "metadata": {},
   "source": [
    "### Q1) Create an empty list. Accept 10 numbers from users and append to the list if it is an even number."
   ]
  },
  {
   "cell_type": "code",
   "execution_count": 1,
   "metadata": {},
   "outputs": [
    {
     "name": "stdout",
     "output_type": "stream",
     "text": [
      "1\n",
      "2\n",
      "3\n",
      "4\n",
      "5\n",
      "6\n",
      "7\n",
      "8\n",
      "9\n",
      "10\n",
      "[2, 4, 6, 8, 10]\n"
     ]
    }
   ],
   "source": [
    "li = []\n",
    "\n",
    "for i in range(10):\n",
    "    n = int(input())\n",
    "    li.append(n)\n",
    "    \n",
    "print([i for i in li if i % 2 == 0])"
   ]
  },
  {
   "cell_type": "markdown",
   "metadata": {},
   "source": [
    "### Q2) Create a notebook on List Comprehension."
   ]
  },
  {
   "cell_type": "code",
   "execution_count": 2,
   "metadata": {},
   "outputs": [
    {
     "name": "stdout",
     "output_type": "stream",
     "text": [
      "[1, 3, 5, 7, 9]\n"
     ]
    }
   ],
   "source": [
    "## This program prints all the odd numbers from 0 to 10.\n",
    "\n",
    "li = []\n",
    "\n",
    "for i in range(11):\n",
    "    li.append(i)\n",
    "    \n",
    "print([i for i in li if i % 2 == 1])"
   ]
  },
  {
   "cell_type": "markdown",
   "metadata": {},
   "source": [
    "### Q3) Given a no n, write a prog that generates a dict d which contains (i, i\\*i) where i is from 1 to n (both inc)"
   ]
  },
  {
   "cell_type": "code",
   "execution_count": 3,
   "metadata": {},
   "outputs": [
    {
     "name": "stdout",
     "output_type": "stream",
     "text": [
      "4\n",
      "{1: 1, 2: 4, 3: 9, 4: 16}\n"
     ]
    }
   ],
   "source": [
    "d = {}\n",
    "n = int(input())\n",
    "\n",
    "res = {i:i*i for i in range(1, n+1)}\n",
    "\n",
    "print(res)"
   ]
  },
  {
   "cell_type": "markdown",
   "metadata": {},
   "source": [
    "### Q4) Write a prog to compute dist b/w current position and position after a seq of movements"
   ]
  },
  {
   "cell_type": "code",
   "execution_count": 5,
   "metadata": {},
   "outputs": [
    {
     "name": "stdout",
     "output_type": "stream",
     "text": [
      "4\n",
      "UP 5\n",
      "DOWN 3\n",
      "LEFT 3\n",
      "RIGHT 2\n",
      "2\n"
     ]
    }
   ],
   "source": [
    "import math\n",
    "from functools import reduce\n",
    "\n",
    "n = int(input())\n",
    "li = []\n",
    "li_u = []\n",
    "li_d = []\n",
    "li_r = []\n",
    "li_l = []\n",
    "\n",
    "for i in range(n):\n",
    "    a = input()\n",
    "    b = a.split()\n",
    "    map_obj = map(int, b[1])\n",
    "    li2 = list(map_obj)\n",
    "    li.append(li2)\n",
    "      \n",
    "for i in range(len(li)):\n",
    "    \n",
    "    if li[i][0].upper() == \"UP\":\n",
    "        li_u.append(li[i][1])\n",
    "        \n",
    "    elif li[i][0].upper() == \"DOWN\":\n",
    "        li_d.append(li[i][1])\n",
    "        \n",
    "    elif li[i][0].upper() == \"RIGHT\":\n",
    "        li_r.append(li[i][1])\n",
    "        \n",
    "    elif li[i][0].upper() == \"LEFT\":\n",
    "        li_l.append(li[i][1])\n",
    "\n",
    "        \n",
    "u = reduce(lambda x,y: x+y, li_u)\n",
    "d = reduce(lambda x,y: x+y, li_d)\n",
    "r = reduce(lambda x,y: x+y, li_r)\n",
    "l = reduce(lambda x,y: x+y, li_l)\n",
    "\n",
    "y = u-d\n",
    "x = r-l\n",
    "r = y*y + x*x\n",
    "res = round(math.sqrt(r))\n",
    "\n",
    "print(res)"
   ]
  }
 ],
 "metadata": {
  "kernelspec": {
   "display_name": "Python 3",
   "language": "python",
   "name": "python3"
  },
  "language_info": {
   "codemirror_mode": {
    "name": "ipython",
    "version": 3
   },
   "file_extension": ".py",
   "mimetype": "text/x-python",
   "name": "python",
   "nbconvert_exporter": "python",
   "pygments_lexer": "ipython3",
   "version": "3.7.4"
  }
 },
 "nbformat": 4,
 "nbformat_minor": 2
}
